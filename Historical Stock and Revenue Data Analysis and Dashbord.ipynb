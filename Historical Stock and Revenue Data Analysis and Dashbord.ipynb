{
 "cells": [
  {
   "cell_type": "markdown",
   "id": "96e64825-aa2e-4487-ad32-f548c489e97c",
   "metadata": {},
   "source": [
    "### Extracting Tesla Stock Data Using yfinance "
   ]
  },
  {
   "cell_type": "code",
   "execution_count": 490,
   "id": "67141d28-8fcf-4ef2-8643-af8c069e0338",
   "metadata": {
    "tags": []
   },
   "outputs": [],
   "source": [
    "# Import the yfinance library using the alias yf\n",
    "import yfinance as yf"
   ]
  },
  {
   "cell_type": "code",
   "execution_count": 491,
   "id": "abb51bc7-ea17-45a3-a3ed-197e197c491a",
   "metadata": {
    "tags": []
   },
   "outputs": [],
   "source": [
    "# Create a Ticker object for the Tesla stock\n",
    "tesla = yf.Ticker(\"TSLA\")"
   ]
  },
  {
   "cell_type": "code",
   "execution_count": 492,
   "id": "1a5be8ef-e385-43d7-bf2e-059801393425",
   "metadata": {
    "tags": []
   },
   "outputs": [],
   "source": [
    "# Download the historical data for Tesla Stock\n",
    "tesla_stock = tesla.history(period=\"max\")"
   ]
  },
  {
   "cell_type": "code",
   "execution_count": 493,
   "id": "8ca5412e-591b-4256-bbe8-d3f0f335115c",
   "metadata": {
    "tags": []
   },
   "outputs": [
    {
     "data": {
      "text/html": [
       "<div>\n",
       "<style scoped>\n",
       "    .dataframe tbody tr th:only-of-type {\n",
       "        vertical-align: middle;\n",
       "    }\n",
       "\n",
       "    .dataframe tbody tr th {\n",
       "        vertical-align: top;\n",
       "    }\n",
       "\n",
       "    .dataframe thead th {\n",
       "        text-align: right;\n",
       "    }\n",
       "</style>\n",
       "<table border=\"1\" class=\"dataframe\">\n",
       "  <thead>\n",
       "    <tr style=\"text-align: right;\">\n",
       "      <th></th>\n",
       "      <th>Open</th>\n",
       "      <th>High</th>\n",
       "      <th>Low</th>\n",
       "      <th>Close</th>\n",
       "      <th>Volume</th>\n",
       "      <th>Dividends</th>\n",
       "      <th>Stock Splits</th>\n",
       "    </tr>\n",
       "    <tr>\n",
       "      <th>Date</th>\n",
       "      <th></th>\n",
       "      <th></th>\n",
       "      <th></th>\n",
       "      <th></th>\n",
       "      <th></th>\n",
       "      <th></th>\n",
       "      <th></th>\n",
       "    </tr>\n",
       "  </thead>\n",
       "  <tbody>\n",
       "    <tr>\n",
       "      <th>2010-06-29 00:00:00-04:00</th>\n",
       "      <td>1.266667</td>\n",
       "      <td>1.666667</td>\n",
       "      <td>1.169333</td>\n",
       "      <td>1.592667</td>\n",
       "      <td>281494500</td>\n",
       "      <td>0.0</td>\n",
       "      <td>0.0</td>\n",
       "    </tr>\n",
       "    <tr>\n",
       "      <th>2010-06-30 00:00:00-04:00</th>\n",
       "      <td>1.719333</td>\n",
       "      <td>2.028000</td>\n",
       "      <td>1.553333</td>\n",
       "      <td>1.588667</td>\n",
       "      <td>257806500</td>\n",
       "      <td>0.0</td>\n",
       "      <td>0.0</td>\n",
       "    </tr>\n",
       "    <tr>\n",
       "      <th>2010-07-01 00:00:00-04:00</th>\n",
       "      <td>1.666667</td>\n",
       "      <td>1.728000</td>\n",
       "      <td>1.351333</td>\n",
       "      <td>1.464000</td>\n",
       "      <td>123282000</td>\n",
       "      <td>0.0</td>\n",
       "      <td>0.0</td>\n",
       "    </tr>\n",
       "    <tr>\n",
       "      <th>2010-07-02 00:00:00-04:00</th>\n",
       "      <td>1.533333</td>\n",
       "      <td>1.540000</td>\n",
       "      <td>1.247333</td>\n",
       "      <td>1.280000</td>\n",
       "      <td>77097000</td>\n",
       "      <td>0.0</td>\n",
       "      <td>0.0</td>\n",
       "    </tr>\n",
       "    <tr>\n",
       "      <th>2010-07-06 00:00:00-04:00</th>\n",
       "      <td>1.333333</td>\n",
       "      <td>1.333333</td>\n",
       "      <td>1.055333</td>\n",
       "      <td>1.074000</td>\n",
       "      <td>103003500</td>\n",
       "      <td>0.0</td>\n",
       "      <td>0.0</td>\n",
       "    </tr>\n",
       "  </tbody>\n",
       "</table>\n",
       "</div>"
      ],
      "text/plain": [
       "                               Open      High       Low     Close     Volume  \\\n",
       "Date                                                                           \n",
       "2010-06-29 00:00:00-04:00  1.266667  1.666667  1.169333  1.592667  281494500   \n",
       "2010-06-30 00:00:00-04:00  1.719333  2.028000  1.553333  1.588667  257806500   \n",
       "2010-07-01 00:00:00-04:00  1.666667  1.728000  1.351333  1.464000  123282000   \n",
       "2010-07-02 00:00:00-04:00  1.533333  1.540000  1.247333  1.280000   77097000   \n",
       "2010-07-06 00:00:00-04:00  1.333333  1.333333  1.055333  1.074000  103003500   \n",
       "\n",
       "                           Dividends  Stock Splits  \n",
       "Date                                                \n",
       "2010-06-29 00:00:00-04:00        0.0           0.0  \n",
       "2010-06-30 00:00:00-04:00        0.0           0.0  \n",
       "2010-07-01 00:00:00-04:00        0.0           0.0  \n",
       "2010-07-02 00:00:00-04:00        0.0           0.0  \n",
       "2010-07-06 00:00:00-04:00        0.0           0.0  "
      ]
     },
     "execution_count": 493,
     "metadata": {},
     "output_type": "execute_result"
    }
   ],
   "source": [
    "# Display the data that was obtained\n",
    "tesla_stock.head()"
   ]
  },
  {
   "cell_type": "markdown",
   "id": "605e6597-7f41-4de1-b1fb-fbaad7029512",
   "metadata": {
    "tags": []
   },
   "source": [
    " ### Extracting Tesla Revenue Data Using Webscraping"
   ]
  },
  {
   "cell_type": "code",
   "execution_count": 494,
   "id": "cde10d65-4729-4020-9a02-56dd836def3b",
   "metadata": {},
   "outputs": [],
   "source": [
    "import pandas as pd\n",
    "import requests\n",
    "from bs4 import BeautifulSoup"
   ]
  },
  {
   "cell_type": "code",
   "execution_count": 495,
   "id": "d3ec2ecf-10e4-40dc-aea5-ccdd2650d656",
   "metadata": {
    "tags": []
   },
   "outputs": [],
   "source": [
    "import warnings\n",
    "# Ignore all warnings\n",
    "warnings.filterwarnings(\"ignore\", category=FutureWarning)"
   ]
  },
  {
   "cell_type": "code",
   "execution_count": 496,
   "id": "5bde8b64-2cb3-4a53-bb36-cb1f8e8cbb20",
   "metadata": {
    "tags": []
   },
   "outputs": [],
   "source": [
    "# Send the HTML request to the web page\n",
    "url = \"https://stockanalysis.com/stocks/tsla/revenue/\""
   ]
  },
  {
   "cell_type": "code",
   "execution_count": null,
   "id": "eccdfe40-97ec-4f4d-9445-09a458d5d64c",
   "metadata": {
    "tags": []
   },
   "outputs": [],
   "source": [
    "# Utilize the request library and extract the HTML using .text method\n",
    "data = requests.get(url).text\n",
    "print(data)"
   ]
  },
  {
   "cell_type": "code",
   "execution_count": 498,
   "id": "0c3039fb-5eb3-41c1-a96c-65f9da99cac0",
   "metadata": {
    "tags": []
   },
   "outputs": [],
   "source": [
    "# Parse the data using BeautifulSoup\n",
    "soup = BeautifulSoup(data, 'html5lib')"
   ]
  },
  {
   "cell_type": "code",
   "execution_count": 499,
   "id": "e5e73447-a14e-48a8-b851-3074ce86fa62",
   "metadata": {
    "tags": []
   },
   "outputs": [],
   "source": [
    "tesla_revenue = pd.DataFrame(columns=[\"Fiscal Year End\", \"Revenue\", \"Change\", \"Growth\"])\n",
    "# loop through each row and locate all the column values for each row\n",
    "for row in soup.find(\"tbody\").find_all(\"tr\"):\n",
    "    col = row.find_all(\"td\")\n",
    "    fiscal_year_end = col[0].text\n",
    "    revenue = col[1].text\n",
    "    change = col[2].text\n",
    "    growth = col[3].text\n",
    "    tesla_revenue = tesla_revenue.append({\"Fiscal Year End\":fiscal_year_end, \"Revenue\":revenue, \"Change\":change, \"Growth\":growth, }, ignore_index=True)"
   ]
  },
  {
   "cell_type": "code",
   "execution_count": 500,
   "id": "9bb14b14-a071-49e5-b972-885497fdf8e2",
   "metadata": {
    "tags": []
   },
   "outputs": [
    {
     "data": {
      "text/html": [
       "<div>\n",
       "<style scoped>\n",
       "    .dataframe tbody tr th:only-of-type {\n",
       "        vertical-align: middle;\n",
       "    }\n",
       "\n",
       "    .dataframe tbody tr th {\n",
       "        vertical-align: top;\n",
       "    }\n",
       "\n",
       "    .dataframe thead th {\n",
       "        text-align: right;\n",
       "    }\n",
       "</style>\n",
       "<table border=\"1\" class=\"dataframe\">\n",
       "  <thead>\n",
       "    <tr style=\"text-align: right;\">\n",
       "      <th></th>\n",
       "      <th>Fiscal Year End</th>\n",
       "      <th>Revenue</th>\n",
       "      <th>Change</th>\n",
       "      <th>Growth</th>\n",
       "    </tr>\n",
       "  </thead>\n",
       "  <tbody>\n",
       "    <tr>\n",
       "      <th>0</th>\n",
       "      <td>Dec 31, 2022</td>\n",
       "      <td>81.46B</td>\n",
       "      <td>27.64B</td>\n",
       "      <td>51.35%</td>\n",
       "    </tr>\n",
       "    <tr>\n",
       "      <th>1</th>\n",
       "      <td>Dec 31, 2021</td>\n",
       "      <td>53.82B</td>\n",
       "      <td>22.29B</td>\n",
       "      <td>70.67%</td>\n",
       "    </tr>\n",
       "    <tr>\n",
       "      <th>2</th>\n",
       "      <td>Dec 31, 2020</td>\n",
       "      <td>31.54B</td>\n",
       "      <td>6.96B</td>\n",
       "      <td>28.31%</td>\n",
       "    </tr>\n",
       "    <tr>\n",
       "      <th>3</th>\n",
       "      <td>Dec 31, 2019</td>\n",
       "      <td>24.58B</td>\n",
       "      <td>3.12B</td>\n",
       "      <td>14.52%</td>\n",
       "    </tr>\n",
       "    <tr>\n",
       "      <th>4</th>\n",
       "      <td>Dec 31, 2018</td>\n",
       "      <td>21.46B</td>\n",
       "      <td>9.70B</td>\n",
       "      <td>82.51%</td>\n",
       "    </tr>\n",
       "  </tbody>\n",
       "</table>\n",
       "</div>"
      ],
      "text/plain": [
       "  Fiscal Year End Revenue  Change  Growth\n",
       "0    Dec 31, 2022  81.46B  27.64B  51.35%\n",
       "1    Dec 31, 2021  53.82B  22.29B  70.67%\n",
       "2    Dec 31, 2020  31.54B   6.96B  28.31%\n",
       "3    Dec 31, 2019  24.58B   3.12B  14.52%\n",
       "4    Dec 31, 2018  21.46B   9.70B  82.51%"
      ]
     },
     "execution_count": 500,
     "metadata": {},
     "output_type": "execute_result"
    }
   ],
   "source": [
    "# Display the data that was obtained\n",
    "tesla_revenue.head()"
   ]
  },
  {
   "cell_type": "markdown",
   "id": "72a72378-9837-47d4-be74-74d69ae3955f",
   "metadata": {
    "tags": []
   },
   "source": [
    " ### Extracting GameStop Stock Data Using yfinance"
   ]
  },
  {
   "cell_type": "code",
   "execution_count": 501,
   "id": "6655c424-3f68-4cdc-aa74-869c2b69edd7",
   "metadata": {
    "tags": []
   },
   "outputs": [],
   "source": [
    "# Import the yfinance library using the alias yf\n",
    "import yfinance as yf"
   ]
  },
  {
   "cell_type": "code",
   "execution_count": 502,
   "id": "fd47a6bc-be12-4019-b871-3d773f98d01a",
   "metadata": {
    "tags": []
   },
   "outputs": [],
   "source": [
    "# Create a Ticker object for the Tesla stock\n",
    "gamestop = yf.Ticker(\"GME\")"
   ]
  },
  {
   "cell_type": "code",
   "execution_count": 503,
   "id": "030b4bd3-dac2-4c1e-88e6-b7df52fb5c11",
   "metadata": {},
   "outputs": [],
   "source": [
    "# Download the historical data for Tesla Stock\n",
    "gamestop_stock = tesla.history(period=\"max\")"
   ]
  },
  {
   "cell_type": "code",
   "execution_count": 504,
   "id": "6f885e08-108b-4b3f-8984-0e70b16cbee8",
   "metadata": {},
   "outputs": [
    {
     "data": {
      "text/html": [
       "<div>\n",
       "<style scoped>\n",
       "    .dataframe tbody tr th:only-of-type {\n",
       "        vertical-align: middle;\n",
       "    }\n",
       "\n",
       "    .dataframe tbody tr th {\n",
       "        vertical-align: top;\n",
       "    }\n",
       "\n",
       "    .dataframe thead th {\n",
       "        text-align: right;\n",
       "    }\n",
       "</style>\n",
       "<table border=\"1\" class=\"dataframe\">\n",
       "  <thead>\n",
       "    <tr style=\"text-align: right;\">\n",
       "      <th></th>\n",
       "      <th>Open</th>\n",
       "      <th>High</th>\n",
       "      <th>Low</th>\n",
       "      <th>Close</th>\n",
       "      <th>Volume</th>\n",
       "      <th>Dividends</th>\n",
       "      <th>Stock Splits</th>\n",
       "    </tr>\n",
       "    <tr>\n",
       "      <th>Date</th>\n",
       "      <th></th>\n",
       "      <th></th>\n",
       "      <th></th>\n",
       "      <th></th>\n",
       "      <th></th>\n",
       "      <th></th>\n",
       "      <th></th>\n",
       "    </tr>\n",
       "  </thead>\n",
       "  <tbody>\n",
       "    <tr>\n",
       "      <th>2010-06-29 00:00:00-04:00</th>\n",
       "      <td>1.266667</td>\n",
       "      <td>1.666667</td>\n",
       "      <td>1.169333</td>\n",
       "      <td>1.592667</td>\n",
       "      <td>281494500</td>\n",
       "      <td>0.0</td>\n",
       "      <td>0.0</td>\n",
       "    </tr>\n",
       "    <tr>\n",
       "      <th>2010-06-30 00:00:00-04:00</th>\n",
       "      <td>1.719333</td>\n",
       "      <td>2.028000</td>\n",
       "      <td>1.553333</td>\n",
       "      <td>1.588667</td>\n",
       "      <td>257806500</td>\n",
       "      <td>0.0</td>\n",
       "      <td>0.0</td>\n",
       "    </tr>\n",
       "    <tr>\n",
       "      <th>2010-07-01 00:00:00-04:00</th>\n",
       "      <td>1.666667</td>\n",
       "      <td>1.728000</td>\n",
       "      <td>1.351333</td>\n",
       "      <td>1.464000</td>\n",
       "      <td>123282000</td>\n",
       "      <td>0.0</td>\n",
       "      <td>0.0</td>\n",
       "    </tr>\n",
       "    <tr>\n",
       "      <th>2010-07-02 00:00:00-04:00</th>\n",
       "      <td>1.533333</td>\n",
       "      <td>1.540000</td>\n",
       "      <td>1.247333</td>\n",
       "      <td>1.280000</td>\n",
       "      <td>77097000</td>\n",
       "      <td>0.0</td>\n",
       "      <td>0.0</td>\n",
       "    </tr>\n",
       "    <tr>\n",
       "      <th>2010-07-06 00:00:00-04:00</th>\n",
       "      <td>1.333333</td>\n",
       "      <td>1.333333</td>\n",
       "      <td>1.055333</td>\n",
       "      <td>1.074000</td>\n",
       "      <td>103003500</td>\n",
       "      <td>0.0</td>\n",
       "      <td>0.0</td>\n",
       "    </tr>\n",
       "  </tbody>\n",
       "</table>\n",
       "</div>"
      ],
      "text/plain": [
       "                               Open      High       Low     Close     Volume  \\\n",
       "Date                                                                           \n",
       "2010-06-29 00:00:00-04:00  1.266667  1.666667  1.169333  1.592667  281494500   \n",
       "2010-06-30 00:00:00-04:00  1.719333  2.028000  1.553333  1.588667  257806500   \n",
       "2010-07-01 00:00:00-04:00  1.666667  1.728000  1.351333  1.464000  123282000   \n",
       "2010-07-02 00:00:00-04:00  1.533333  1.540000  1.247333  1.280000   77097000   \n",
       "2010-07-06 00:00:00-04:00  1.333333  1.333333  1.055333  1.074000  103003500   \n",
       "\n",
       "                           Dividends  Stock Splits  \n",
       "Date                                                \n",
       "2010-06-29 00:00:00-04:00        0.0           0.0  \n",
       "2010-06-30 00:00:00-04:00        0.0           0.0  \n",
       "2010-07-01 00:00:00-04:00        0.0           0.0  \n",
       "2010-07-02 00:00:00-04:00        0.0           0.0  \n",
       "2010-07-06 00:00:00-04:00        0.0           0.0  "
      ]
     },
     "execution_count": 504,
     "metadata": {},
     "output_type": "execute_result"
    }
   ],
   "source": [
    "# Display the data that was obtained\n",
    "gamestop_stock.head()"
   ]
  },
  {
   "cell_type": "markdown",
   "id": "bee600d1-5c27-49fe-bbdb-b43fd9520cae",
   "metadata": {},
   "source": [
    "### Extracting GameStop Revenue Data Using Webscraping"
   ]
  },
  {
   "cell_type": "code",
   "execution_count": 505,
   "id": "6068d661-efa1-42df-a4b0-42cfe9043dea",
   "metadata": {},
   "outputs": [],
   "source": [
    "import pandas as pd\n",
    "import requests\n",
    "from bs4 import BeautifulSoup"
   ]
  },
  {
   "cell_type": "code",
   "execution_count": 506,
   "id": "88e3fc87-36f5-4391-9e28-fe8d37d45741",
   "metadata": {},
   "outputs": [],
   "source": [
    "import warnings\n",
    "# Ignore all warnings\n",
    "warnings.filterwarnings(\"ignore\", category=FutureWarning)"
   ]
  },
  {
   "cell_type": "code",
   "execution_count": 507,
   "id": "230017a0-d9b6-4b99-9e07-847c2e24dd6b",
   "metadata": {},
   "outputs": [],
   "source": [
    "# Send the HTML request to the web page\n",
    "url = \"https://companiesmarketcap.com/gamestop/revenue/\""
   ]
  },
  {
   "cell_type": "code",
   "execution_count": null,
   "id": "444ab147-d5c8-4918-afdd-0c57e43a6521",
   "metadata": {
    "tags": []
   },
   "outputs": [],
   "source": [
    "# Utilize the request library and extract the HTML using .text method\n",
    "data = requests.get(url).text\n",
    "print(data)"
   ]
  },
  {
   "cell_type": "code",
   "execution_count": 509,
   "id": "8e71c8ea-ffd8-4853-9e72-7789d1f49beb",
   "metadata": {},
   "outputs": [],
   "source": [
    "# Parse the data using BeautifulSoup\n",
    "soup = BeautifulSoup(data, 'html5lib')"
   ]
  },
  {
   "cell_type": "code",
   "execution_count": 510,
   "id": "913a56f4-1403-4e17-8391-3778522a23fd",
   "metadata": {
    "tags": []
   },
   "outputs": [],
   "source": [
    "gamestop_revenue = pd.DataFrame(columns=[\"Year\", \"Revenue\", \"Change\"])\n",
    "# loop through each row and locate all the column values for each row\n",
    "for row in soup.find(\"tbody\").find_all(\"tr\"):\n",
    "    col = row.find_all(\"td\")\n",
    "    year = col[0].text\n",
    "    revenue = col[1].text\n",
    "    change = col[2].text\n",
    "    gamestop_revenue = gamestop_revenue.append({\"Year\":year, \"Revenue\":revenue, \"Change\":change}, ignore_index=True)"
   ]
  },
  {
   "cell_type": "code",
   "execution_count": 511,
   "id": "6e74649e-a457-4a60-8cc6-f26632b2306b",
   "metadata": {
    "tags": []
   },
   "outputs": [
    {
     "data": {
      "text/html": [
       "<div>\n",
       "<style scoped>\n",
       "    .dataframe tbody tr th:only-of-type {\n",
       "        vertical-align: middle;\n",
       "    }\n",
       "\n",
       "    .dataframe tbody tr th {\n",
       "        vertical-align: top;\n",
       "    }\n",
       "\n",
       "    .dataframe thead th {\n",
       "        text-align: right;\n",
       "    }\n",
       "</style>\n",
       "<table border=\"1\" class=\"dataframe\">\n",
       "  <thead>\n",
       "    <tr style=\"text-align: right;\">\n",
       "      <th></th>\n",
       "      <th>Year</th>\n",
       "      <th>Revenue</th>\n",
       "      <th>Change</th>\n",
       "    </tr>\n",
       "  </thead>\n",
       "  <tbody>\n",
       "    <tr>\n",
       "      <th>0</th>\n",
       "      <td>2023 (TTM)</td>\n",
       "      <td>$5.81 B</td>\n",
       "      <td>-2.37%</td>\n",
       "    </tr>\n",
       "    <tr>\n",
       "      <th>1</th>\n",
       "      <td>2022</td>\n",
       "      <td>$5.95 B</td>\n",
       "      <td>1.29%</td>\n",
       "    </tr>\n",
       "    <tr>\n",
       "      <th>2</th>\n",
       "      <td>2021</td>\n",
       "      <td>$5.87 B</td>\n",
       "      <td>13.89%</td>\n",
       "    </tr>\n",
       "    <tr>\n",
       "      <th>3</th>\n",
       "      <td>2020</td>\n",
       "      <td>$5.16 B</td>\n",
       "      <td>-29.63%</td>\n",
       "    </tr>\n",
       "    <tr>\n",
       "      <th>4</th>\n",
       "      <td>2019</td>\n",
       "      <td>$7.33 B</td>\n",
       "      <td>-19.99%</td>\n",
       "    </tr>\n",
       "  </tbody>\n",
       "</table>\n",
       "</div>"
      ],
      "text/plain": [
       "         Year  Revenue   Change\n",
       "0  2023 (TTM)  $5.81 B   -2.37%\n",
       "1        2022  $5.95 B    1.29%\n",
       "2        2021  $5.87 B   13.89%\n",
       "3        2020  $5.16 B  -29.63%\n",
       "4        2019  $7.33 B  -19.99%"
      ]
     },
     "execution_count": 511,
     "metadata": {},
     "output_type": "execute_result"
    }
   ],
   "source": [
    "# Display the data that was obtained\n",
    "gamestop_revenue.head()"
   ]
  },
  {
   "cell_type": "markdown",
   "id": "2488a2d0-1f5c-40a2-b5ca-110ebab51df3",
   "metadata": {},
   "source": [
    "### Tesla Stock and Revenue Dashboard "
   ]
  },
  {
   "cell_type": "code",
   "execution_count": null,
   "id": "81829a57-9502-4b23-a3be-86cf7d65251d",
   "metadata": {},
   "outputs": [],
   "source": [
    "!pip install yfinance==0.1.67\n",
    "!mamba install bs4==4.10.0 -y\n",
    "!pip install nbformat==4.2.0\n",
    "\n",
    "import yfinance as yf\n",
    "import pandas as pd\n",
    "import requests\n",
    "from bs4 import BeautifulSoup\n",
    "import plotly.graph_objects as go\n",
    "from plotly.subplots import make_subplots"
   ]
  },
  {
   "cell_type": "code",
   "execution_count": 513,
   "id": "7f5ffc48-b7e3-4263-ba91-e0d6be00c81a",
   "metadata": {},
   "outputs": [],
   "source": [
    "def make_graph(tesla_stock, tesla_revenue, tesla):\n",
    "    fig = make_subplots(rows=2, cols=1, shared_xaxes=True, subplot_titles=(\"Price\", \"Revenue\"), vertical_spacing = .3)\n",
    "    tesla_stock_specific = tesla_stock[tesla_stock.Date <= '2010--06-29']\n",
    "    tesla_revenue_specific = tesla_revenue[tesla_revenue.Date <= '2022-12-31']\n",
    "    fig.add_trace(go.Scatter(x=pd.to_datetime(tesla_stock_specific.Date, infer_datetime_format=True), y=tesla_stock_specific.Close.astype(\"float\"), name=\"Share Price\"), row=1, col=1)\n",
    "    fig.add_trace(go.Scatter(x=pd.to_datetime(tesla_revenue_specific.Date, infer_datetime_format=True), y=tesla_revenue.Revenue.astype(\"float\"), name=\"Revenue\"), row=2, col=1)\n",
    "    fig.update_xaxes(title_text=\"Date\", row=1, col=1)\n",
    "    fig.update_xaxes(title_text=\"Date\", row=2, col=1)\n",
    "    fig.update_yaxes(title_text=\"Price ($US)\", row=1, col=1)\n",
    "    fig.update_yaxes(title_text=\"Revenue ($US Millions)\", row=2, col=1)\n",
    "    fig.update_layout(showlegend=False,\n",
    "    height=900,\n",
    "    title=stock,\n",
    "    xaxis_rangeslider_visible=True)\n",
    "    fig.show()"
   ]
  },
  {
   "cell_type": "markdown",
   "id": "c1013d13-691e-4028-81a6-b00a53ecf41f",
   "metadata": {},
   "source": [
    "### GameStop Stock and Revenue Dashboard"
   ]
  },
  {
   "cell_type": "code",
   "execution_count": null,
   "id": "d50876c9-1ba7-421e-93fb-6d47a7d4598e",
   "metadata": {},
   "outputs": [],
   "source": [
    "!pip install yfinance==0.1.67\n",
    "!mamba install bs4==4.10.0 -y\n",
    "!pip install nbformat==4.2.0\n",
    "\n",
    "import yfinance as yf\n",
    "import pandas as pd\n",
    "import requests\n",
    "from bs4 import BeautifulSoup\n",
    "import plotly.graph_objects as go\n",
    "from plotly.subplots import make_subplots"
   ]
  },
  {
   "cell_type": "code",
   "execution_count": 515,
   "id": "b2de3c6d-4d01-4b18-a0f1-f3e63907c8dd",
   "metadata": {
    "tags": []
   },
   "outputs": [],
   "source": [
    "import warnings\n",
    "# Ignore all warnings\n",
    "warnings.filterwarnings(\"ignore\", category=FutureWarning)"
   ]
  },
  {
   "cell_type": "code",
   "execution_count": 516,
   "id": "be8c149c-b940-4f2c-8629-79f37f16de98",
   "metadata": {},
   "outputs": [],
   "source": [
    "def make_graph(gamestop_stock, gamestop_revenue, gamestop):\n",
    "    fig = make_subplots(rows=2, cols=1, shared_xaxes=True, subplot_titles=(\"Historical Share Price\", \"Historical Revenue\"), vertical_spacing = .3)\n",
    "    gamestop_stock_specific = gamestop_stock[gamestop_stock.Date <= '2021--06-14']\n",
    "    gamestop_revenue_specific = revenue_data[revenue_data.Date <= '2021-04-30']\n",
    "    fig.add_trace(go.Scatter(x=pd.to_datetime(gamestop_stock_specific.Date, infer_datetime_format=True), y=gamestop_stock_specific.Close.astype(\"float\"), name=\"Share Price\"), row=1, col=1)\n",
    "    fig.add_trace(go.Scatter(x=pd.to_datetime(gamestop_revenue_specific.Date, infer_datetime_format=True), y=gamestop_revenue_specific.Revenue.astype(\"float\"), name=\"Revenue\"), row=2, col=1)\n",
    "    fig.update_xaxes(title_text=\"Date\", row=1, col=1)\n",
    "    fig.update_xaxes(title_text=\"Date\", row=2, col=1)\n",
    "    fig.update_yaxes(title_text=\"Price ($US)\", row=1, col=1)\n",
    "    fig.update_yaxes(title_text=\"Revenue ($US Millions)\", row=2, col=1)\n",
    "    fig.update_layout(showlegend=False,\n",
    "    height=900,\n",
    "    title=stock,\n",
    "    xaxis_rangeslider_visible=True)\n",
    "    fig.show()"
   ]
  },
  {
   "cell_type": "code",
   "execution_count": null,
   "id": "8b50dae5-6fc4-4b90-98f1-4b1b5b90990f",
   "metadata": {},
   "outputs": [],
   "source": []
  },
  {
   "cell_type": "code",
   "execution_count": null,
   "id": "1cc2654c-0d17-461b-b2bb-d0574b8ea3ae",
   "metadata": {},
   "outputs": [],
   "source": []
  },
  {
   "cell_type": "code",
   "execution_count": null,
   "id": "dbb85b68-8ff0-413e-8d1f-71a551f63bb2",
   "metadata": {},
   "outputs": [],
   "source": []
  },
  {
   "cell_type": "code",
   "execution_count": null,
   "id": "1538c818-b078-407d-9a7a-70492e7842f5",
   "metadata": {},
   "outputs": [],
   "source": []
  },
  {
   "cell_type": "code",
   "execution_count": null,
   "id": "79c4a211-373f-45a1-b551-f933a5bcec9a",
   "metadata": {},
   "outputs": [],
   "source": []
  },
  {
   "cell_type": "code",
   "execution_count": null,
   "id": "61b4c781-f75f-4148-badf-e34a0ec5952f",
   "metadata": {},
   "outputs": [],
   "source": []
  },
  {
   "cell_type": "code",
   "execution_count": null,
   "id": "0f91cd48-77c9-480f-901a-c6831d994279",
   "metadata": {},
   "outputs": [],
   "source": []
  },
  {
   "cell_type": "code",
   "execution_count": null,
   "id": "14825965-f70a-46d3-bb86-4f7797059330",
   "metadata": {},
   "outputs": [],
   "source": []
  }
 ],
 "metadata": {
  "kernelspec": {
   "display_name": "Python",
   "language": "python",
   "name": "conda-env-python-py"
  },
  "language_info": {
   "codemirror_mode": {
    "name": "ipython",
    "version": 3
   },
   "file_extension": ".py",
   "mimetype": "text/x-python",
   "name": "python",
   "nbconvert_exporter": "python",
   "pygments_lexer": "ipython3",
   "version": "3.7.12"
  }
 },
 "nbformat": 4,
 "nbformat_minor": 5
}
